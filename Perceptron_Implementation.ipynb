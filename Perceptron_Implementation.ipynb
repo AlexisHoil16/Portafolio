{
  "nbformat": 4,
  "nbformat_minor": 0,
  "metadata": {
    "colab": {
      "provenance": []
    },
    "kernelspec": {
      "name": "python3",
      "display_name": "Python 3"
    },
    "language_info": {
      "name": "python"
    }
  },
  "cells": [
    {
      "cell_type": "markdown",
      "source": [
        "The following code is an implementation the perceptron to resolve a problem of binary clasification.\n",
        "\n",
        "First we start creating a class called Perceptron that contain our algorithm, here we define the init that start the peceptron, the we define the fit, where we will charge our data to train the model and also we define predict as the method to do the predictions"
      ],
      "metadata": {
        "id": "FgRI7u3CuW4_"
      }
    },
    {
      "cell_type": "code",
      "execution_count": 2,
      "metadata": {
        "id": "kUh9Y1BYtH6q"
      },
      "outputs": [],
      "source": [
        "import numpy as np\n",
        "\n",
        "class Perceptron:\n",
        "    def __init__(self, learning_rate=0.01, n_iterations=1000):\n",
        "        self.learning_rate = learning_rate\n",
        "        self.n_iterations = n_iterations\n",
        "        self.weights = None\n",
        "        self.bias = None\n",
        "\n",
        "    def fit(self, X, y):\n",
        "        n_samples, n_features = X.shape\n",
        "        self.weights = np.zeros(n_features)\n",
        "        self.bias = 0\n",
        "\n",
        "        for _ in range(self.n_iterations):\n",
        "            for i in range(n_samples):\n",
        "                prediction = np.dot(X[i], self.weights) + self.bias\n",
        "                if y[i] * prediction <= 0:\n",
        "                    self.weights += self.learning_rate * y[i] * X[i]\n",
        "                    self.bias += self.learning_rate * y[i]\n",
        "\n",
        "    def predict(self, X):\n",
        "        return np.sign(np.dot(X, self.weights) + self.bias)\n",
        "\n"
      ]
    },
    {
      "cell_type": "markdown",
      "source": [
        "Here we are going to do a proof of the model"
      ],
      "metadata": {
        "id": "_AB1JCMSwNOF"
      }
    },
    {
      "cell_type": "code",
      "source": [
        "if __name__ == \"__main__\":\n",
        "    # Datos de ejemplo\n",
        "    X = np.array([[2, 3], [1, 4], [5, 6], [3, 8]])\n",
        "    y = np.array([1, 1, -1, -1])\n",
        "\n",
        ""
      ],
      "metadata": {
        "id": "3AEj9dR3t3kK"
      },
      "execution_count": 3,
      "outputs": []
    },
    {
      "cell_type": "markdown",
      "source": [
        "We creat the perceptron and fit the model"
      ],
      "metadata": {
        "id": "IKqzZGZVwh1x"
      }
    },
    {
      "cell_type": "code",
      "source": [
        "perceptron = Perceptron(learning_rate=0.1, n_iterations=1000)\n",
        "perceptron.fit(X, y)\n"
      ],
      "metadata": {
        "id": "0eKsIOZot9tE"
      },
      "execution_count": 4,
      "outputs": []
    },
    {
      "cell_type": "markdown",
      "source": [
        "Here we are going to do the test of our model"
      ],
      "metadata": {
        "id": "fDq0NW45ww0b"
      }
    },
    {
      "cell_type": "code",
      "source": [
        "X_test = np.array([[4, 5], [2, 6]])\n",
        "predictions = perceptron.predict(X_test)\n",
        "print(\"Predicciones:\", predictions)"
      ],
      "metadata": {
        "colab": {
          "base_uri": "https://localhost:8080/"
        },
        "id": "5j4sHPNBt--s",
        "outputId": "1fdf88ed-61c2-43ea-c00d-029999c716be"
      },
      "execution_count": 5,
      "outputs": [
        {
          "output_type": "stream",
          "name": "stdout",
          "text": [
            "Predicciones: [-1.  1.]\n"
          ]
        }
      ]
    }
  ]
}